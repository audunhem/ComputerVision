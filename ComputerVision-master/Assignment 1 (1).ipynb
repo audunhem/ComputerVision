{
 "cells": [
  {
   "cell_type": "code",
   "execution_count": 145,
   "metadata": {},
   "outputs": [
    {
     "name": "stdout",
     "output_type": "stream",
     "text": [
      "(12089, 785)\n",
      "(12089,)\n"
     ]
    },
    {
     "name": "stderr",
     "output_type": "stream",
     "text": [
      "/usr/local/lib/python3.6/dist-packages/ipykernel_launcher.py:39: RuntimeWarning: divide by zero encountered in log\n"
     ]
    },
    {
     "name": "stdout",
     "output_type": "stream",
     "text": [
      "9813\n",
      "1949\n",
      "[0.69314718 0.15301779 0.2008447  ... 0.08455243 0.08455426 0.08455609]\n"
     ]
    },
    {
     "data": {
      "image/png": "[encoded data removed]",
      "text/plain": [
       "<Figure size 864x576 with 1 Axes>"
      ]
     },
     "metadata": {},
     "output_type": "display_data"
    }
   ],
   "source": [
    "import mnist\n",
    "import numpy as np\n",
    "import matplotlib.pyplot as plt # Plotting library\n",
    "\n",
    "#mnist.init()\n",
    "X_train, Y_train, X_test, Y_test = mnist.load()\n",
    "\n",
    "#using only images decipting a 2 or 3\n",
    "X_train = X_train[(Y_train == 3) | (Y_train == 2)]\n",
    "Y_train = Y_train[(Y_train == 3) | (Y_train == 2)]\n",
    "Y_train = (Y_train == 2).astype(int)\n",
    "ones = np.ones((X_train.shape[0],1))\n",
    "X_train = np.concatenate((X_train,ones), axis = 1)\n",
    "print(X_train.shape)\n",
    "\n",
    "X_test = X_test[(Y_test == 3) | (Y_test == 2)]\n",
    "Y_test = Y_test[(Y_test == 3) | (Y_test == 2)]\n",
    "Y_test = (Y_test == 2).astype(int)\n",
    "\n",
    "print(Y_train.shape)\n",
    "#Test sets\n",
    "X_test_set = X_train[10000:12000];\n",
    "Y_test_set = Y_train[10000:12000];\n",
    "\n",
    "#for debugging purposes\n",
    "X_train = X_train[0:10000];\n",
    "Y_train = Y_train[0:10000];\n",
    "\n",
    "\n",
    "\n",
    "#implementing gradient descent\n",
    "weights = np.zeros(X_train[0].size)\n",
    "\n",
    "m = 5000\n",
    "learning_rate = 0.000001\n",
    "\n",
    "def cross_entropy_loss_function(target, output_probability):\n",
    "    N=target.size\n",
    "    return -(np.dot(target,np.log(output_probability))+np.dot((1-target),np.log(1-output_probability)))/N\n",
    "\n",
    "def values_guessed_correctly_percentage(probabilities_of_values, actual_values):\n",
    "    VALUES_GUESSED=np.zeros(probabilities_of_values.size)\n",
    "    correctly_guessed_numbers=0;\n",
    "    for i in range(probabilities_of_values.size):\n",
    "        if probabilities_of_values[i]<0.5:\n",
    "            VALUES_GUESSED[i]=0\n",
    "        else:\n",
    "            VALUES_GUESSED[i]=1\n",
    "        if VALUES_GUESSED[i]==actual_values[i]:\n",
    "            correctly_guessed_numbers+=1\n",
    "    print(correctly_guessed_numbers)\n",
    "\n",
    "TRAIN_LOSS = np.zeros(m)\n",
    "TEST_LOSS = np.zeros(m)\n",
    "STEP = np.zeros(m)\n",
    "\n",
    "for i in range(0,m): #Må ordne med validation set også (nå har vi test set og training set), legge inn early stopping?\n",
    "    probability = 1 / (1 + np.exp(np.dot(X_train,weights))) #mulig pluss/minus-feil\n",
    "    test_set_probability = 1 / (1 + np.exp(np.dot(X_test_set,weights)))\n",
    "    \n",
    "    TRAIN_LOSS[i]=cross_entropy_loss_function(Y_train,probability)\n",
    "    TEST_LOSS[i]=cross_entropy_loss_function(Y_test_set,test_set_probability)\n",
    "    STEP[i]=i\n",
    "    \n",
    "    error = Y_train - probability\n",
    "    weights = weights - learning_rate * np.dot(error,X_train)/500\n",
    "\n",
    "values_guessed_correctly_percentage(probability,Y_train)\n",
    "values_guessed_correctly_percentage(test_set_probability,Y_test_set)\n",
    "\n",
    "#print(LOSS)\n",
    "#print(Y_train)\n",
    "#print(probability)\n",
    "#print(TRAIN_LOSS)\n",
    "print(TEST_LOSS)\n",
    "\n",
    "plt.figure(figsize=(12, 8 ))\n",
    "plt.ylim([0, 1])\n",
    "plt.xlabel(\"Training steps\")\n",
    "plt.ylabel(\"MSE Loss\")\n",
    "plt.plot(STEP, TRAIN_LOSS, label=\"Training loss\")\n",
    "plt.plot(STEP, TEST_LOSS, label=\"Test loss\")\n",
    "#plt.plot(TRAINING_STEP, VAL_LOSS, label=\"Validation loss\")\n",
    "plt.legend() # Shows graph labels\n",
    "\n",
    "plt.show()"
   ]
  },
  {
   "cell_type": "code",
   "execution_count": null,
   "metadata": {},
   "outputs": [],
   "source": []
  },
  {
   "cell_type": "code",
   "execution_count": null,
   "metadata": {},
   "outputs": [],
   "source": []
  },
  {
   "cell_type": "code",
   "execution_count": null,
   "metadata": {},
   "outputs": [],
   "source": []
  }
 ],
 "metadata": {
  "kernelspec": {
   "display_name": "Python 3",
   "language": "python",
   "name": "python3"
  },
  "language_info": {
   "codemirror_mode": {
    "name": "ipython",
    "version": 3
   },
   "file_extension": ".py",
   "mimetype": "text/x-python",
   "name": "python",
   "nbconvert_exporter": "python",
   "pygments_lexer": "ipython3",
   "version": "3.6.7"
  }
 },
 "nbformat": 4,
 "nbformat_minor": 2
}
